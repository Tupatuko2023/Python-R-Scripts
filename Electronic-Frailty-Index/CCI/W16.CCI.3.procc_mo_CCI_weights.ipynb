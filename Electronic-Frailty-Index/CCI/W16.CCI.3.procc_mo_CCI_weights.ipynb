{
 "cells": [
  {
   "cell_type": "code",
   "execution_count": null,
   "id": "0",
   "metadata": {},
   "outputs": [],
   "source": [
    "# Work 16: Removing Dots and Standardizing ICD-10 Codes in Modified Charlson Comorbidity Index (CCI):\n",
    "# [W16.CCI.3.procc_mo_CCI_weights.ipynb]\n",
    "\n",
    "# \"This Jupyter notebook removes dots and standardizes ICD-10 codes in the Modified Charlson \n",
    "#  Comorbidity Index (CCI), then saves the updated file.\"\"\n",
    "\n",
    "########################################################################################################\n",
    "#  Sequence list\n",
    "########################################################################################################\n",
    "\n",
    "# 1. Load the CCI mapping file\n",
    "# 2. Load the CSV file into a DataFrame\n",
    "# 3. Remove dots from ICD-10 codes\n",
    "# 4. Add zero to specific ICD-10 codes\n",
    "# 5. Run the function to fix ICD-10 codes\n",
    "# 6. Save the updated file\n",
    "# 7. Print confirmation message\n",
    "\n",
    "########################################################################################################\n",
    "########################################################################################################\n",
    "\n",
    "import pandas as pd\n",
    "\n",
    "# 1: Load the CCI mapping file\n",
    "cci_conditions_path = 'https://raw.githubusercontent.com/Tupatuko2023/Python-R-Scripts/main/tables/W15.mo_cci_conditions.xlsx'\n",
    "cci_output_path = 'W16.mo_cci_no_dots.csv'\n",
    "\n",
    "# 2: Load the CSV file into a DataFrame\n",
    "cci_df = pd.read_csv(cci_conditions_path)\n",
    "\n",
    "# 3: Remove dots from ICD-10 codes\n",
    "cci_df['ICD-10 Code'] = cci_df['ICD-10 Code'].str.replace('.', '', regex=False)\n",
    "\n",
    "# 4: Add zero to specific ICD-10 codes\n",
    "def fix_icd_code(code):\n",
    "    if len(code) == 2 and code[0].isalpha() and code[1].isdigit():\n",
    "        return f\"{code[0]}0{code[1]}\"\n",
    "    return code\n",
    "\n",
    "# 5: Run the function to fix ICD-10 codes\n",
    "cci_df['ICD-10 Code'] = cci_df['ICD-10 Code'].apply(fix_icd_code)\n",
    "\n",
    "# 6: Save the updated file\n",
    "cci_df.to_csv(cci_output_path, index=False)\n",
    "\n",
    "# 7: Print confirmation message\n",
    "print(f\"New CCI mapping file saved: {cci_output_path}\")"
   ]
  }
 ],
 "metadata": {
  "kernelspec": {
   "display_name": "Python 3 (ipykernel)",
   "language": "python",
   "name": "python3"
  },
  "language_info": {
   "codemirror_mode": {
    "name": "ipython",
    "version": 3
   },
   "file_extension": ".py",
   "mimetype": "text/x-python",
   "name": "python",
   "nbconvert_exporter": "python",
   "pygments_lexer": "ipython3",
   "version": "3.12.3"
  }
 },
 "nbformat": 4,
 "nbformat_minor": 5
}
